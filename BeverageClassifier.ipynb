{
  "cells": [
    {
      "cell_type": "markdown",
      "metadata": {
        "id": "view-in-github",
        "colab_type": "text"
      },
      "source": [
        "<a href=\"https://colab.research.google.com/github/Girls-in-Tech-Hack-for-the-Environment/GreenScore/blob/main/BeverageClassifier.ipynb\" target=\"_parent\"><img src=\"https://colab.research.google.com/assets/colab-badge.svg\" alt=\"Open In Colab\"/></a>"
      ]
    },
    {
      "cell_type": "markdown",
      "metadata": {
        "id": "M3VReVdmzTXp"
      },
      "source": [
        "# Mount Google Drive:\n"
      ]
    },
    {
      "cell_type": "code",
      "execution_count": null,
      "metadata": {
        "colab": {
          "base_uri": "https://localhost:8080/"
        },
        "id": "u0sjhl2xzLUi",
        "outputId": "d984326c-7243-4145-a344-a15ce458ba93"
      },
      "outputs": [
        {
          "name": "stdout",
          "output_type": "stream",
          "text": [
            "Mounted at /content/drive\n"
          ]
        }
      ],
      "source": [
        "from google.colab import drive\n",
        "drive.mount('/content/drive')\n"
      ]
    },
    {
      "cell_type": "code",
      "source": [
        "!pip install datasets transformers torchvision\n"
      ],
      "metadata": {
        "id": "Fg53SvkpkZiQ"
      },
      "execution_count": null,
      "outputs": []
    },
    {
      "cell_type": "markdown",
      "source": [
        "## Clone Repo\n"
      ],
      "metadata": {
        "id": "G05yfrNHkvb3"
      }
    },
    {
      "cell_type": "code",
      "source": [
        "!git clone https://huggingface.co/datasets/stperez/beverages\n"
      ],
      "metadata": {
        "colab": {
          "base_uri": "https://localhost:8080/"
        },
        "id": "aUgWTSlZkxQY",
        "outputId": "c052cedd-5749-460c-b563-931ea03f8806"
      },
      "execution_count": 4,
      "outputs": [
        {
          "output_type": "stream",
          "name": "stdout",
          "text": [
            "Filtering content: 100% (4429/4429), 2.73 GiB | 8.03 MiB/s, done.\n"
          ]
        }
      ]
    },
    {
      "cell_type": "markdown",
      "source": [
        "## Load and preprocess the data\n",
        "\n",
        "\n",
        "---\n",
        "\n"
      ],
      "metadata": {
        "id": "gTWaKw4SlsPT"
      }
    },
    {
      "cell_type": "code",
      "source": [
        "from torchvision import transforms\n",
        "from torch.utils.data import DataLoader, random_split\n",
        "from torchvision.datasets import ImageFolder\n",
        "\n",
        "# Create a transformation pipeline for the images\n",
        "transform = transforms.Compose([\n",
        "    transforms.Resize((128, 128)),\n",
        "    transforms.ToTensor(),\n",
        "])"
      ],
      "metadata": {
        "id": "uyjm8g9ulwQO"
      },
      "execution_count": 5,
      "outputs": []
    },
    {
      "cell_type": "code",
      "source": [
        "# Define the root directory for the dataset\n",
        "root_dir = '/content/beverages/Beer/Anheuser-Busch InBev/budweiser'"
      ],
      "metadata": {
        "id": "bXaIC20Inrvi"
      },
      "execution_count": 8,
      "outputs": []
    },
    {
      "cell_type": "code",
      "source": [],
      "metadata": {
        "id": "URW_u8ZcoCEO"
      },
      "execution_count": null,
      "outputs": []
    },
    {
      "cell_type": "markdown",
      "source": [
        "### Sample example\n",
        "\n",
        "\n",
        "---\n",
        "\n",
        "from torchvision import transforms\n",
        "from torch.utils.data import DataLoader\n",
        "from torchvision.datasets import ImageFolder\n",
        "\n",
        "# Create a transformation pipeline for the images\n",
        "transform = transforms.Compose([\n",
        "    transforms.Resize((128, 128)),\n",
        "    transforms.ToTensor(),\n",
        "])\n",
        "\n",
        "# Define the root directory for the beer dataset\n",
        "root_dir = '/content/beverages/Beer'\n",
        "\n",
        "# Create separate ImageFolder datasets for training and testing for each brand\n",
        "budweiser_train = ImageFolder(root=f'{root_dir}/Anheuser-Busch InBev/budweiser/train', transform=transform)\n",
        "budweiser_test = ImageFolder(root=f'{root_dir}/Anheuser-Busch InBev/budweiser/test', transform=transform)\n",
        "\n",
        "castle_lite_train = ImageFolder(root=f'{root_dir}/Anheuser-Busch InBev/castle_lite/train', transform=transform)\n",
        "castle_lite_test = ImageFolder(root=f'{root_dir}/Anheuser-Busch InBev/castle_lite/test', transform=transform)\n",
        "\n",
        "corona_train = ImageFolder(root=f'{root_dir}/Anheuser-Busch InBev/corona/train', transform=transform)\n",
        "corona_test = ImageFolder(root=f'{root_dir}/Anheuser-Busch InBev/corona/test', transform=transform)\n",
        "\n",
        "# ... and so on for the other brands\n",
        "\n",
        "# Create data loaders\n",
        "budweiser_train_loader = DataLoader(budweiser_train, batch_size=32, shuffle=True)\n",
        "budweiser_test_loader = DataLoader(budweiser_test, batch_size=32, shuffle\n"
      ],
      "metadata": {
        "id": "Xe28tVIZn88R"
      }
    }
  ],
  "metadata": {
    "colab": {
      "provenance": [],
      "authorship_tag": "ABX9TyNMHUYzsPfMZ5TfL25tNDmz",
      "include_colab_link": true
    },
    "kernelspec": {
      "display_name": "Python 3",
      "name": "python3"
    },
    "language_info": {
      "name": "python"
    }
  },
  "nbformat": 4,
  "nbformat_minor": 0
}