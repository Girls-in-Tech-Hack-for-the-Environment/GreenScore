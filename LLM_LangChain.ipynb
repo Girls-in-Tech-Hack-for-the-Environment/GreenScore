{
  "nbformat": 4,
  "nbformat_minor": 0,
  "metadata": {
    "colab": {
      "provenance": [],
      "gpuType": "T4",
      "include_colab_link": true
    },
    "kernelspec": {
      "name": "python3",
      "display_name": "Python 3"
    },
    "language_info": {
      "name": "python"
    }
  },
  "cells": [
    {
      "cell_type": "markdown",
      "metadata": {
        "id": "view-in-github",
        "colab_type": "text"
      },
      "source": [
        "<a href=\"https://colab.research.google.com/github/Girls-in-Tech-Hack-for-the-Environment/GreenScore/blob/main/LLM_LangChain.ipynb\" target=\"_parent\"><img src=\"https://colab.research.google.com/assets/colab-badge.svg\" alt=\"Open In Colab\"/></a>"
      ]
    },
    {
      "cell_type": "markdown",
      "source": [
        "# Requirements\n",
        "\n",
        "\n",
        "---\n",
        "\n"
      ],
      "metadata": {
        "id": "Pn1kU3A1BDOo"
      }
    },
    {
      "cell_type": "code",
      "source": [
        "!pip install langchain"
      ],
      "metadata": {
        "id": "JgxDtQzEBgQM"
      },
      "execution_count": 1,
      "outputs": []
    },
    {
      "cell_type": "code",
      "source": [
        "!pip install openai"
      ],
      "metadata": {
        "id": "ukP-vW0uCU_9",
        "colab": {
          "base_uri": "https://localhost:8080/"
        },
        "outputId": "b1415988-6b0f-4fc7-8a23-9957b54157fc"
      },
      "execution_count": 2,
      "outputs": [
        {
          "output_type": "stream",
          "name": "stdout",
          "text": [
            "Collecting openai\n",
            "  Downloading openai-0.27.8-py3-none-any.whl (73 kB)\n",
            "\u001b[?25l     \u001b[90m━━━━━━━━━━━━━━━━━━━━━━━━━━━━━━━━━━━━━━━━\u001b[0m \u001b[32m0.0/73.6 kB\u001b[0m \u001b[31m?\u001b[0m eta \u001b[36m-:--:--\u001b[0m\r\u001b[2K     \u001b[91m━━━━━━━━━━━━━━━━━━━━━━━━━━━━━━━━━━━━━━\u001b[0m\u001b[91m╸\u001b[0m\u001b[90m━\u001b[0m \u001b[32m71.7/73.6 kB\u001b[0m \u001b[31m2.2 MB/s\u001b[0m eta \u001b[36m0:00:01\u001b[0m\r\u001b[2K     \u001b[90m━━━━━━━━━━━━━━━━━━━━━━━━━━━━━━━━━━━━━━━━\u001b[0m \u001b[32m73.6/73.6 kB\u001b[0m \u001b[31m1.7 MB/s\u001b[0m eta \u001b[36m0:00:00\u001b[0m\n",
            "\u001b[?25hRequirement already satisfied: requests>=2.20 in /usr/local/lib/python3.10/dist-packages (from openai) (2.27.1)\n",
            "Requirement already satisfied: tqdm in /usr/local/lib/python3.10/dist-packages (from openai) (4.65.0)\n",
            "Requirement already satisfied: aiohttp in /usr/local/lib/python3.10/dist-packages (from openai) (3.8.4)\n",
            "Requirement already satisfied: urllib3<1.27,>=1.21.1 in /usr/local/lib/python3.10/dist-packages (from requests>=2.20->openai) (1.26.16)\n",
            "Requirement already satisfied: certifi>=2017.4.17 in /usr/local/lib/python3.10/dist-packages (from requests>=2.20->openai) (2023.5.7)\n",
            "Requirement already satisfied: charset-normalizer~=2.0.0 in /usr/local/lib/python3.10/dist-packages (from requests>=2.20->openai) (2.0.12)\n",
            "Requirement already satisfied: idna<4,>=2.5 in /usr/local/lib/python3.10/dist-packages (from requests>=2.20->openai) (3.4)\n",
            "Requirement already satisfied: attrs>=17.3.0 in /usr/local/lib/python3.10/dist-packages (from aiohttp->openai) (23.1.0)\n",
            "Requirement already satisfied: multidict<7.0,>=4.5 in /usr/local/lib/python3.10/dist-packages (from aiohttp->openai) (6.0.4)\n",
            "Requirement already satisfied: async-timeout<5.0,>=4.0.0a3 in /usr/local/lib/python3.10/dist-packages (from aiohttp->openai) (4.0.2)\n",
            "Requirement already satisfied: yarl<2.0,>=1.0 in /usr/local/lib/python3.10/dist-packages (from aiohttp->openai) (1.9.2)\n",
            "Requirement already satisfied: frozenlist>=1.1.1 in /usr/local/lib/python3.10/dist-packages (from aiohttp->openai) (1.4.0)\n",
            "Requirement already satisfied: aiosignal>=1.1.2 in /usr/local/lib/python3.10/dist-packages (from aiohttp->openai) (1.3.1)\n",
            "Installing collected packages: openai\n",
            "Successfully installed openai-0.27.8\n"
          ]
        }
      ]
    },
    {
      "cell_type": "code",
      "source": [
        "# get a token: https://platform.openai.com/account/api-keys\n",
        "\n",
        "from getpass import getpass\n",
        "\n",
        "OPENAI_API_KEY = getpass()"
      ],
      "metadata": {
        "id": "jNFCyfenDcNj",
        "colab": {
          "base_uri": "https://localhost:8080/"
        },
        "outputId": "4f483d08-a5aa-4f03-c601-399d14a99253"
      },
      "execution_count": 3,
      "outputs": [
        {
          "name": "stdout",
          "output_type": "stream",
          "text": [
            "··········\n"
          ]
        }
      ]
    },
    {
      "cell_type": "code",
      "source": [
        "from langchain.llms import OpenAI\n",
        "\n",
        "llm = OpenAI(openai_api_key=\"...\")"
      ],
      "metadata": {
        "id": "PPa6c2r1D7Wt"
      },
      "execution_count": 4,
      "outputs": []
    },
    {
      "cell_type": "code",
      "source": [
        "from langchain import PromptTemplate\n",
        "from langchain.chat_models import ChatOpenAI\n",
        "from langchain.prompts.chat import (\n",
        "    ChatPromptTemplate,\n",
        "    SystemMessagePromptTemplate,\n",
        "    AIMessagePromptTemplate,\n",
        "    HumanMessagePromptTemplate,\n",
        ")\n",
        "\n",
        "template=\"\"\"\n",
        "Respond By ranking each of the brands and their programs incentives agaisnt each other into a  general ranking by rating of 1st to 10th place on efforts for the following categories:\n",
        "- Type of Recycling Program\n",
        "-Duration\n",
        "-Participation Rate\n",
        "- Volume of Materials Recycled\n",
        "-Reach and Accessibility\n",
        "-Environmental Impact\n",
        "-Innovation\n",
        "-Education and Outreach\n",
        "-Third-Party Validation\n",
        "\"\"\"\n",
        "system_message_prompt = SystemMessagePromptTemplate.from_template(template)\n",
        "human_template=\"{text}\"\n",
        "human_message_prompt = HumanMessagePromptTemplate.from_template(human_template)\n",
        "chat_prompt = ChatPromptTemplate.from_messages([system_message_prompt, human_message_prompt])\n",
        "chat = ChatOpenAI(temperature=0, openai_api_key=OPENAI_API_KEY)\n"
      ],
      "metadata": {
        "id": "vzOPDEOCEKxC"
      },
      "execution_count": 5,
      "outputs": []
    },
    {
      "cell_type": "code",
      "source": [
        "import pandas as pd\n",
        "\n",
        "# Load your data into a pandas DataFrame\n",
        "df = pd.read_csv('your_data_file.csv')\n",
        "\n",
        "# Define your templates and model outside of the loop\n",
        "# Your templates and model setup code goes here...\n",
        "\n",
        "# Loop through each row of the DataFrame\n",
        "for index, row in df.iterrows():\n",
        "    # Get the brand and program data from the row\n",
        "    # Replace 'brand' and 'program' with the names of your columns\n",
        "    brand = row['brand']\n",
        "    program_data = row['program']\n",
        "\n",
        "    # Format your prompt with the brand and program data\n",
        "    text_input = f\"Brand: {brand}, Program Data: {program_data}\"\n",
        "\n",
        "    # Get a chat completion from the formatted messages\n",
        "    chat(chat_prompt.format_prompt(text=text_input).to_messages())\n"
      ],
      "metadata": {
        "id": "s9EUNXgjpybc"
      },
      "execution_count": null,
      "outputs": []
    },
    {
      "cell_type": "code",
      "source": [
        "\n",
        "# Loop through each row of the DataFrame\n",
        "for index, row in df.iterrows():\n",
        "    # Get the brand and program data from the row\n",
        "    brand = row['brand']\n",
        "    program_data = row['program']\n",
        "\n",
        "    # Format your prompt with the brand and program data\n",
        "    text_input = f\"Brand: {brand}, Program Data: {program_data}\"\n",
        "\n",
        "    # Get a chat completion from the formatted messages\n",
        "    result = chat(chat_prompt.format_prompt(text=text_input).to_messages())\n",
        "\n",
        "    # Assuming 'result' is a dictionary containing the scores for each category\n",
        "    # you can add these scores to the row in the DataFrame\n",
        "    for category, score in result.items():\n",
        "        df.loc[index, category] = score\n",
        "\n",
        "# After the loop, save the DataFrame back to a CSV file\n",
        "df.to_csv('your_data_file.csv', index=False)\n"
      ],
      "metadata": {
        "id": "7iQtPT6TkSdq"
      },
      "execution_count": null,
      "outputs": []
    }
  ]
}